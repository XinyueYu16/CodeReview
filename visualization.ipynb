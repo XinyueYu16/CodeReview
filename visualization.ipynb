{
 "cells": [
  {
   "cell_type": "code",
   "execution_count": 2,
   "metadata": {},
   "outputs": [],
   "source": [
    "import warnings\n",
    "warnings.filterwarnings('ignore')\n",
    "import pandas as pd"
   ]
  },
  {
   "cell_type": "code",
   "execution_count": 3,
   "metadata": {},
   "outputs": [],
   "source": [
    "import matplotlib\n",
    "import matplotlib.pyplot as plt\n",
    "import seaborn as sns\n",
    "import matplotlib.gridspec as gridspec\n",
    "import matplotlib.font_manager as font_manager\n",
    "\n",
    "# 由于使用Linux系统，Matplotlib没法在默认路径下找到中文字体，需要手动添加\n",
    "font_dirs = ['/usr/share/fonts/', '/mnt/c/Windows/Fonts/']\n",
    "font_files = font_manager.findSystemFonts(fontpaths=font_dirs)\n",
    "\n",
    "for font_file in [i for i in font_files if i.find('simhei') != -1]:\n",
    "    font_manager.fontManager.addfont(font_file)\n",
    "plt.rcParams['font.sans-serif'] = ['SimHei']\n",
    "\n",
    "%matplotlib inline"
   ]
  },
  {
   "cell_type": "markdown",
   "metadata": {},
   "source": [
    "# 正常dataframe画图"
   ]
  },
  {
   "cell_type": "markdown",
   "metadata": {},
   "source": [
    "## 微调"
   ]
  },
  {
   "cell_type": "code",
   "execution_count": null,
   "metadata": {},
   "outputs": [],
   "source": [
    "# 调整legend位置\n",
    "plt.legend(bbox_to_anchor=(1.05, 1), loc='upper left', borderaxespad=0)"
   ]
  },
  {
   "cell_type": "markdown",
   "metadata": {},
   "source": [
    "## 分组画图"
   ]
  },
  {
   "cell_type": "markdown",
   "metadata": {},
   "source": [
    "- pandas自带subplots"
   ]
  },
  {
   "cell_type": "code",
   "execution_count": null,
   "metadata": {},
   "outputs": [],
   "source": [
    "sh[['pop', 'diff_1']].plot(subplots=True, figsize=(18, 12))"
   ]
  },
  {
   "cell_type": "markdown",
   "metadata": {},
   "source": [
    "- 生成subplot框，通过在sns.plot()里指定ax画图，并且对每个子图.set(title)"
   ]
  },
  {
   "cell_type": "code",
   "execution_count": null,
   "metadata": {},
   "outputs": [],
   "source": [
    "# fig,a =  plt.subplots(10, figsize=(15,50))\n",
    "fig,a =  plt.subplots(len(dis_df['位置分类'].unique()),1, figsize=(20,30))\n",
    "cnt=0\n",
    "metric_col = 'distance_m'\n",
    "for metric in dis_df['位置分类'].unique():\n",
    "    sns.barplot(data=dis_df[dis_df['位置分类']==metric].sort_values(metric_col).head(10)\\\n",
    "                        .append(dis_df[dis_df['位置分类']==metric].sort_values(metric_col).tail(10)), \n",
    "                x='plate', \n",
    "                y=metric_col,\n",
    "                saturation=0.4,\n",
    "                ax=a[cnt],\n",
    "                palette='bwr_r'\n",
    "               ).set(title=f'{metric}')\n",
    "    cnt +=1"
   ]
  },
  {
   "cell_type": "code",
   "execution_count": null,
   "metadata": {},
   "outputs": [],
   "source": [
    "col = '平均月售'\n",
    "fig,a =  plt.subplots(1, len(select_metric[col]), figsize=(15,3))\n",
    "cnt=0\n",
    "\n",
    "for metric in select_metric[col]:\n",
    "    sns.scatterplot(data=metric_all.query('总店铺数>=20'), y=col, x=metric, ax=a[cnt])\n",
    "       \n",
    "    cnt +=1"
   ]
  },
  {
   "cell_type": "markdown",
   "metadata": {},
   "source": [
    "- 生成FacetGrid，通过指定行列名，map出多组子图"
   ]
  },
  {
   "cell_type": "code",
   "execution_count": null,
   "metadata": {},
   "outputs": [],
   "source": [
    "\n",
    "g = sns.FacetGrid(d1.sort_values(['位置分类', '人口比类型']),\n",
    "                  col=\"位置分类_板块\",\n",
    "                  height=5,\n",
    "                  aspect=1.5,\n",
    "                  col_wrap=3)\n",
    "g.map(sns.histplot, \"distance_m\", bins=20, kde=True, palette='red')"
   ]
  },
  {
   "cell_type": "code",
   "execution_count": null,
   "metadata": {},
   "outputs": [],
   "source": [
    "g = sns.FacetGrid(imputed4.sort_values(['region', 'year']),\n",
    "                  col=\"province\",\n",
    "                  hue=\"region\",\n",
    "                  height=5,\n",
    "                  aspect=1.5,\n",
    "                  col_wrap=3)\n",
    "g.map(sns.lineplot, 'year', \"居民人均可支配收入\")\n",
    "g.add_legend()"
   ]
  },
  {
   "cell_type": "markdown",
   "metadata": {},
   "source": [
    "## 散点图加label"
   ]
  },
  {
   "cell_type": "code",
   "execution_count": null,
   "metadata": {},
   "outputs": [],
   "source": [
    "def label_point(x, y, val, ax):\n",
    "    a = pd.concat({'x': x, 'y': y, 'val': val}, axis=1)\n",
    "    for i, point in a.iterrows():\n",
    "        ax.text(point['x'], point['y'], str(point['val']))\n",
    "\n",
    "\n",
    "sns.set_theme(style='darkgrid', font='SimHei')\n",
    "plt.figure(figsize=(30, 15))\n",
    "sns.scatterplot(data=metric_reg.reset_index(),\n",
    "                x='前5p外卖店铺占比',\n",
    "                y='连锁店铺数100以上占比',\n",
    "                hue='label',\n",
    "                palette='tab10')\n",
    "label_point(metric_reg.reset_index()['前5p外卖店铺占比'],\n",
    "            metric_reg.reset_index()['连锁店铺数100以上占比'],\n",
    "            metric_reg.reset_index()['plate'], plt.gca())\n",
    "\n",
    "# plt.title(f'{col}与{metric}的关系')"
   ]
  },
  {
   "cell_type": "markdown",
   "metadata": {},
   "source": [
    "# geodataframe作图\n"
   ]
  },
  {
   "cell_type": "code",
   "execution_count": null,
   "metadata": {},
   "outputs": [],
   "source": [
    "import geoplot as gplt\n",
    "import geoplot.crs as gcrs\n",
    "import matplotlib.pyplot as plt\n",
    "ax = gplt.pointplot(df=kmeans_result_try1,\n",
    "                    hue='kmeans',\n",
    "                    cmap='tab20b',\n",
    "                    legend='True')\n"
   ]
  },
  {
   "cell_type": "markdown",
   "metadata": {},
   "source": [
    "# Javascript作图"
   ]
  },
  {
   "cell_type": "code",
   "execution_count": null,
   "metadata": {},
   "outputs": [],
   "source": []
  },
  {
   "cell_type": "markdown",
   "metadata": {},
   "source": [
    "# ipyleaflet作图"
   ]
  },
  {
   "cell_type": "code",
   "execution_count": null,
   "metadata": {},
   "outputs": [],
   "source": []
  }
 ],
 "metadata": {
  "kernelspec": {
   "display_name": "Python 3.7.3 64-bit",
   "language": "python",
   "name": "python3"
  },
  "language_info": {
   "codemirror_mode": {
    "name": "ipython",
    "version": 3
   },
   "file_extension": ".py",
   "mimetype": "text/x-python",
   "name": "python",
   "nbconvert_exporter": "python",
   "pygments_lexer": "ipython3",
   "version": "3.5.3"
  },
  "orig_nbformat": 4,
  "vscode": {
   "interpreter": {
    "hash": "31f2aee4e71d21fbe5cf8b01ff0e069b9275f58929596ceb00d14d90e3e16cd6"
   }
  }
 },
 "nbformat": 4,
 "nbformat_minor": 2
}
